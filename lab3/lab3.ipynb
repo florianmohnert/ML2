{
 "cells": [
  {
   "cell_type": "markdown",
   "metadata": {
    "deletable": false,
    "editable": false,
    "nbgrader": {
     "checksum": "9a10081f57b90a368eb8daf62e3ba00e",
     "grade": false,
     "grade_id": "cell-02487845739eb4fd",
     "locked": true,
     "schema_version": 1,
     "solution": false
    }
   },
   "source": [
    "### Lab 3: Expectation Maximization and Variational Autoencoder\n",
    "\n",
    "### Machine Learning 2 (2017/2018)\n",
    "\n",
    "* The lab exercises should be made in groups of two or three people.\n",
    "* The deadline is Friday, 01.06.\n",
    "* Assignment should be submitted through BlackBoard! Make sure to include your and your teammates' names with the submission.\n",
    "* Attach the .IPYNB (IPython Notebook) file containing your code and answers. Naming of the file should be \"studentid1\\_studentid2\\_lab#\", for example, the attached file should be \"12345\\_12346\\_lab1.ipynb\". Only use underscores (\"\\_\") to connect ids, otherwise the files cannot be parsed.\n",
    "\n",
    "Notes on implementation:\n",
    "\n",
    "* You should write your code and answers in an IPython Notebook: http://ipython.org/notebook.html. If you have problems, please ask.\n",
    "* Use __one cell__ for code and markdown answers only!\n",
    "    * Put all code in the cell with the ```# YOUR CODE HERE``` comment and overwrite the ```raise NotImplementedError()``` line.\n",
    "    * For theoretical questions, put your solution using LaTeX style formatting in the YOUR ANSWER HERE cell.\n",
    "* Among the first lines of your notebook should be \"%pylab inline\". This imports all required modules, and your plots will appear inline.\n",
    "* Large parts of you notebook will be graded automatically. Therefore it is important that your notebook can be run completely without errors and within a reasonable time limit. To test your notebook before submission, select Kernel -> Restart \\& Run All.\n",
    "$\\newcommand{\\bx}{\\mathbf{x}} \\newcommand{\\bpi}{\\mathbf{\\pi}} \\newcommand{\\bmu}{\\mathbf{\\mu}} \\newcommand{\\bX}{\\mathbf{X}} \\newcommand{\\bZ}{\\mathbf{Z}} \\newcommand{\\bz}{\\mathbf{z}}$"
   ]
  },
  {
   "cell_type": "markdown",
   "metadata": {
    "deletable": false,
    "editable": false,
    "nbgrader": {
     "checksum": "e4e05229ee79b55d6589e1ea8de68f32",
     "grade": false,
     "grade_id": "cell-a0a6fdb7ca694bee",
     "locked": true,
     "schema_version": 1,
     "solution": false
    }
   },
   "source": [
    "### Installing PyTorch\n",
    "\n",
    "In this lab we will use PyTorch. PyTorch is an open source deep learning framework primarily developed by Facebook's artificial-intelligence research group. In order to install PyTorch in your conda environment go to https://pytorch.org and select your operating system, conda, Python 3.6, no cuda. Copy the text from the \"Run this command:\" box. Now open a terminal and activate your 'ml2labs' conda environment. Paste the text and run. After the installation is done you should restart Jupyter."
   ]
  },
  {
   "cell_type": "markdown",
   "metadata": {
    "deletable": false,
    "editable": false,
    "nbgrader": {
     "checksum": "d9c3d77f550b5fd93b34fd18825c47f0",
     "grade": false,
     "grade_id": "cell-746cac8d9a21943b",
     "locked": true,
     "schema_version": 1,
     "solution": false
    }
   },
   "source": [
    "### MNIST data\n",
    "\n",
    "In this Lab we will use several methods for unsupervised learning on the MNIST dataset of written digits. The dataset contains digital images of handwritten numbers $0$ through $9$. Each image has 28x28 pixels that each take 256 values in a range from white ($= 0$) to  black ($=1$). The labels belonging to the images are also included. \n",
    "Fortunately, PyTorch comes with a MNIST data loader. The first time you run the box below it will download the MNIST data set. That can take a couple of minutes.\n",
    "The main data types in PyTorch are tensors. For Part 1, we will convert those tensors to numpy arrays. In Part 2, we will use the torch module to directly work with PyTorch tensors."
   ]
  },
  {
   "cell_type": "code",
   "execution_count": 1,
   "metadata": {
    "collapsed": false,
    "deletable": false,
    "editable": false,
    "nbgrader": {
     "checksum": "4fbc152afa1255331d7b88bf00b7156c",
     "grade": false,
     "grade_id": "cell-7c995be0fda080c0",
     "locked": true,
     "schema_version": 1,
     "solution": false
    }
   },
   "outputs": [
    {
     "name": "stdout",
     "output_type": "stream",
     "text": [
      "Populating the interactive namespace from numpy and matplotlib\n"
     ]
    }
   ],
   "source": [
    "%pylab inline\n",
    "import torch\n",
    "from torchvision import datasets, transforms\n",
    "\n",
    "train_dataset = datasets.MNIST('../data', train=True, download=True,\n",
    "                   transform=transforms.Compose([\n",
    "                       transforms.ToTensor(),\n",
    "                       transforms.Normalize((0.1307,), (0.3081,))\n",
    "                   ]))\n",
    "\n",
    "train_labels = train_dataset.train_labels.numpy()\n",
    "train_data = train_dataset.train_data.numpy()\n",
    "# For EM we will use flattened data\n",
    "train_data = train_data.reshape(train_data.shape[0], -1)\n"
   ]
  },
  {
   "cell_type": "code",
   "execution_count": 2,
   "metadata": {
    "collapsed": true
   },
   "outputs": [],
   "source": [
    "import torch\n",
    "\n",
    "from torch.autograd import Variable"
   ]
  },
  {
   "cell_type": "markdown",
   "metadata": {
    "deletable": false,
    "editable": false,
    "nbgrader": {
     "checksum": "4fc852f9bfb0bab10d4c23eada309e89",
     "grade": false,
     "grade_id": "cell-8b4a44df532b1867",
     "locked": true,
     "schema_version": 1,
     "solution": false
    }
   },
   "source": [
    "## Part 1: Expectation Maximization\n",
    "We will use the Expectation Maximization (EM) algorithm for the recognition of handwritten digits in the MNIST dataset. The images are modelled as a Bernoulli mixture model (see Bishop $\\S9.3.3$):\n",
    "$$\n",
    "p(\\bx|\\bmu, \\bpi) = \\sum_{k=1}^K  \\pi_k \\prod_{i=1}^D \\mu_{ki}^{x_i}(1-\\mu_{ki})^{(1-x_i)}\n",
    "$$\n",
    "where $x_i$ is the value of pixel $i$ in an image, $\\mu_{ki}$ represents the probability that pixel $i$ in class $k$ is black, and $\\{\\pi_1, \\ldots, \\pi_K\\}$ are the mixing coefficients of classes in the data. We want to use this data set to classify new images of handwritten numbers."
   ]
  },
  {
   "cell_type": "markdown",
   "metadata": {
    "deletable": false,
    "editable": false,
    "nbgrader": {
     "checksum": "54064637b7e7cf938c0f778d748a226a",
     "grade": false,
     "grade_id": "cell-af03fef663aa85b2",
     "locked": true,
     "schema_version": 1,
     "solution": false
    }
   },
   "source": [
    "### 1.1 Binary data (5 points)\n",
    "As we like to apply our Bernoulli mixture model, write a function `binarize` to convert the (flattened) MNIST data to binary images, where each pixel $x_i \\in \\{0,1\\}$, by thresholding at an appropriate level."
   ]
  },
  {
   "cell_type": "code",
   "execution_count": 3,
   "metadata": {
    "collapsed": true,
    "deletable": false,
    "nbgrader": {
     "checksum": "fe8607a4d734f7f26ef1ee1e54b33471",
     "grade": false,
     "grade_id": "cell-ec4365531ca57ef3",
     "locked": false,
     "schema_version": 1,
     "solution": true
    }
   },
   "outputs": [],
   "source": [
    "def binarize(X):\n",
    "        binarized = X > 128\n",
    "        return binarized.astype(float)"
   ]
  },
  {
   "cell_type": "code",
   "execution_count": 4,
   "metadata": {
    "collapsed": false,
    "deletable": false,
    "editable": false,
    "nbgrader": {
     "checksum": "231b2c9f29bc5c536c60cef4d74793a1",
     "grade": true,
     "grade_id": "cell-2f16f57cb68a83b3",
     "locked": true,
     "points": 5,
     "schema_version": 1,
     "solution": false
    }
   },
   "outputs": [],
   "source": [
    "# Test test test!\n",
    "bin_train_data = binarize(train_data)\n",
    "assert bin_train_data.dtype == np.float\n",
    "assert bin_train_data.shape == train_data.shape\n"
   ]
  },
  {
   "cell_type": "markdown",
   "metadata": {
    "deletable": false,
    "editable": false,
    "nbgrader": {
     "checksum": "a0a39404cc2f67078b399ee34653a3ac",
     "grade": false,
     "grade_id": "cell-462e747685e8670f",
     "locked": true,
     "schema_version": 1,
     "solution": false
    }
   },
   "source": [
    "Sample a few images of digits $2$, $3$ and $4$; and show both the original and the binarized image together with their label."
   ]
  },
  {
   "cell_type": "code",
   "execution_count": 5,
   "metadata": {
    "collapsed": false,
    "deletable": false,
    "nbgrader": {
     "checksum": "3f3c981f0fda5ba3bdfcefb9144305c7",
     "grade": true,
     "grade_id": "cell-784c6bd177a9aa42",
     "locked": false,
     "points": 5,
     "schema_version": 1,
     "solution": true
    }
   },
   "outputs": [
    {
     "data": {
      "image/png": "[encoded data removed]",
      "text/plain": [
       "<matplotlib.figure.Figure at 0x11beb2ac8>"
      ]
     },
     "metadata": {},
     "output_type": "display_data"
    }
   ],
   "source": [
    "from matplotlib import pyplot as plt\n",
    "plt.rcParams['figure.figsize'] = [10, 10]\n",
    "\n",
    "#samples from digits 2,3 and 4\n",
    "itemindex_two = np.array(np.where(train_labels==2))\n",
    "itemindex_three = np.array(np.where(train_labels==3))\n",
    "itemindex_four = np.array(np.where(train_labels==4))\n",
    "\n",
    "samples_two = numpy.random.choice(range(itemindex_two.shape[1]),1)\n",
    "samples_three = numpy.random.choice(range(itemindex_three.shape[1]),1)\n",
    "samples_four = numpy.random.choice(range(itemindex_four.shape[1]),1)\n",
    "\n",
    "# plotting\n",
    "fig = plt.figure()\n",
    "\n",
    "p1 = plt.subplot(3, 2, 1)\n",
    "plt.title(\"LABEL: 2\")\n",
    "plt.imshow(train_data[itemindex_two[0,samples_two[0]]].reshape(28,28))\n",
    "p2 = plt.subplot(3, 2, 2)\n",
    "plt.title(\"LABEL: 2\")\n",
    "plt.imshow(bin_train_data[itemindex_two[0,samples_two[0]]].reshape(28,28))\n",
    "p3 = plt.subplot(3, 2, 3)\n",
    "plt.title(\"LABEL: 3\")\n",
    "plt.imshow(train_data[itemindex_three[0,samples_three[0]]].reshape(28,28))\n",
    "p4 = plt.subplot(3, 2, 4)\n",
    "plt.title(\"LABEL: 3\")\n",
    "plt.imshow(bin_train_data[itemindex_three[0,samples_three[0]]].reshape(28,28))\n",
    "p5 = plt.subplot(3, 2, 5)\n",
    "plt.title(\"LABEL: 4\")\n",
    "plt.imshow(train_data[itemindex_four[0,samples_four[0]]].reshape(28,28))\n",
    "p6 = plt.subplot(3, 2, 6)\n",
    "plt.title(\"LABEL: 4\")\n",
    "plt.imshow(bin_train_data[itemindex_four[0,samples_four[0]]].reshape(28,28))\n",
    "plt.show()"
   ]
  },
  {
   "cell_type": "markdown",
   "metadata": {
    "deletable": false,
    "editable": false,
    "nbgrader": {
     "checksum": "4b9da574d24193df76e96ed8ca62c7b0",
     "grade": false,
     "grade_id": "cell-56b33654497d4052",
     "locked": true,
     "schema_version": 1,
     "solution": false
    }
   },
   "source": [
    "### 1.2 Implementation (40 points)\n",
    "You are going to write a function ```EM(X, K, max_iter)``` that implements the EM algorithm on the Bernoulli mixture model. \n",
    "\n",
    "The only parameters the function has are:\n",
    "* ```X``` :: (NxD) array of input training images\n",
    "* ```K``` :: size of the latent space\n",
    "* ```max_iter``` :: maximum number of iterations, i.e. one E-step and one M-step\n",
    "\n",
    "You are free to specify your return statement.\n",
    "\n",
    "Make sure you use a sensible way of terminating the iteration process early to prevent unnecessarily running through all epochs. Vectorize computations using ```numpy``` as  much as possible.\n",
    "\n",
    "You should implement the `E_step(X, mu, pi)` and `M_step(X, gamma)` separately in the functions defined below. These you can then use in your function `EM(X, K, max_iter)`."
   ]
  },
  {
   "cell_type": "code",
   "execution_count": 170,
   "metadata": {
    "collapsed": false,
    "deletable": false,
    "nbgrader": {
     "checksum": "316c9131692747c363b5db8e9091d362",
     "grade": false,
     "grade_id": "cell-882b13c117a73cc4",
     "locked": false,
     "schema_version": 1,
     "solution": true
    }
   },
   "outputs": [],
   "source": [
    "from scipy.misc import logsumexp\n",
    "\n",
    "def E_step(X, mu, pi):\n",
    "    \n",
    "    # X: NxD\n",
    "    # mu: KxD\n",
    "    # pi: K\n",
    "    # gamma: NxK\n",
    "    \n",
    "    lls = []\n",
    "    gamma_num = np.log(pi) + np.dot(X,np.transpose(np.log(mu+1e-10))) + np.dot((1.-X),np.transpose(np.log(1.-mu + 1e-10)))\n",
    "\n",
    "    norm = logsumexp(gamma_num, axis=1, keepdims=True)\n",
    "    #np.log(np.sum(np.exp(gamma_num),axis=0))\n",
    "    gamma = np.exp(gamma_num - norm)\n",
    "    \n",
    "\n",
    "    \n",
    "   \n",
    "    \n",
    "\n",
    "    return gamma,np.mean(norm)"
   ]
  },
  {
   "cell_type": "code",
   "execution_count": 171,
   "metadata": {
    "collapsed": false,
    "deletable": false,
    "editable": false,
    "nbgrader": {
     "checksum": "1418f4014e98024fc97446ce27766c1d",
     "grade": true,
     "grade_id": "cell-f7c7dd52d82e2498",
     "locked": true,
     "points": 15,
     "schema_version": 1,
     "solution": false
    }
   },
   "outputs": [],
   "source": [
    "# Let's test on 5 datapoints\n",
    "n_test = 5\n",
    "X_test = bin_train_data[:n_test]\n",
    "D_test, K_test = X_test.shape[1], 10\n",
    "\n",
    "np.random.seed(2018)\n",
    "mu_test = np.random.uniform(low=.25, high=.75, size=(K_test,D_test))\n",
    "pi_test = np.ones(K_test) / K_test\n",
    "\n",
    "gamma_test,norm_mean = E_step(X_test, mu_test, pi_test)\n",
    "\n",
    "assert gamma_test.shape == (n_test, K_test)\n"
   ]
  },
  {
   "cell_type": "code",
   "execution_count": 172,
   "metadata": {
    "collapsed": true,
    "deletable": false,
    "nbgrader": {
     "checksum": "2c426a613653174795cd9c8327ab6e20",
     "grade": false,
     "grade_id": "cell-f1b11b8765bd1ef6",
     "locked": false,
     "schema_version": 1,
     "solution": true
    }
   },
   "outputs": [],
   "source": [
    "def M_step(X, gamma):\n",
    "\n",
    "    pi = gamma.sum(axis=0)/len(gamma)\n",
    "   \n",
    "    mu_unorm = np.dot(np.transpose(gamma),X)\n",
    "    \n",
    "    mu = mu_unorm / gamma.sum(axis=0,keepdims=True).T\n",
    "    \n",
    "\n",
    "    return mu, pi\n",
    "\n",
    "\n",
    "\n"
   ]
  },
  {
   "cell_type": "code",
   "execution_count": 255,
   "metadata": {
    "collapsed": false,
    "deletable": false,
    "editable": false,
    "nbgrader": {
     "checksum": "0f60d48b8b22063cef560b42944a0aa4",
     "grade": true,
     "grade_id": "cell-6e7c751b30acfd45",
     "locked": true,
     "points": 15,
     "schema_version": 1,
     "solution": false
    }
   },
   "outputs": [],
   "source": [
    "# Oh, let's test again\n",
    "mu_test, pi_test = M_step(X_test, gamma_test)\n",
    "\n",
    "assert mu_test.shape == (K_test,D_test)\n",
    "assert pi_test.shape == (K_test, )\n"
   ]
  },
  {
   "cell_type": "code",
   "execution_count": 407,
   "metadata": {
    "collapsed": false,
    "deletable": false,
    "nbgrader": {
     "checksum": "acfec6384b058cb0ce1932006fbfebc4",
     "grade": true,
     "grade_id": "cell-d6c4368246dee7e6",
     "locked": false,
     "points": 10,
     "schema_version": 1,
     "solution": true
    }
   },
   "outputs": [],
   "source": [
    "def EM(X, K, max_iter, true_labels = False):\n",
    "    \n",
    "    N = X.shape[0]\n",
    "    \n",
    "    \n",
    "    if not true_labels:\n",
    "        # Initializing gamma\n",
    "        gamma = np.eye(K)[np.random.choice(K, N)] #NxK\n",
    "    else:\n",
    "        gamma_list = [[1,0,0]] * 5958 + [[0,1,0]] * 6131 + [[0,0,1]] * 5842\n",
    "        gamma = np.array(gamma_list)\n",
    "        print(gamma.shape)\n",
    "        \n",
    "       \n",
    "    \n",
    "    ll = []\n",
    "    count = 0\n",
    "    \n",
    "    #stopping criteria\n",
    "    stop_c = 1e-5\n",
    "    \n",
    "   \n",
    "    \n",
    "    while count < max_iter: \n",
    "        count+=1\n",
    "        \n",
    "        #M-step\n",
    "        \n",
    "        mu, pi = M_step(X, gamma)\n",
    "        \n",
    "        # E-step\n",
    "        gamma,norm_mean = E_step(X, mu, pi)\n",
    "        \n",
    "        \n",
    "        ll.append(norm_mean)\n",
    "        \n",
    "        print(\"Iteration {}; Average log-likelihood: {}\".format(count,norm_mean))\n",
    "        \n",
    "        \n",
    "        \n",
    "        \n",
    "        # covergence check\n",
    "        if count>1:\n",
    "            if np.abs(ll[count-1] - ll[count-2]) < stop_c*np.abs(ll[count-1]):\n",
    "                print(\"converged, as stopping criterion reached\")\n",
    "                break  \n",
    "                \n",
    "            \n",
    "    return mu, pi, gamma\n",
    " \n",
    "    \n",
    "    \n"
   ]
  },
  {
   "cell_type": "markdown",
   "metadata": {
    "deletable": false,
    "editable": false,
    "nbgrader": {
     "checksum": "b4fc12faa0da660f7a4d9cc7deb41b25",
     "grade": false,
     "grade_id": "cell-e1077ed3b83489be",
     "locked": true,
     "schema_version": 1,
     "solution": false
    }
   },
   "source": [
    "### 1.3 Three digits experiment (10 points)\n",
    "In analogue with Bishop $\\S9.3.3$, sample a training set consisting of only __binary__ images of written digits $2$, $3$, and $4$. Run your EM algorithm and show the reconstructed digits."
   ]
  },
  {
   "cell_type": "code",
   "execution_count": 403,
   "metadata": {
    "collapsed": false,
    "deletable": false,
    "nbgrader": {
     "checksum": "bdbce0fad0ed151063d4c489ce999e3e",
     "grade": true,
     "grade_id": "cell-477155d0264d7259",
     "locked": false,
     "points": 5,
     "schema_version": 1,
     "solution": true
    }
   },
   "outputs": [
    {
     "data": {
      "text/plain": [
       "(17931, 784)"
      ]
     },
     "execution_count": 403,
     "metadata": {},
     "output_type": "execute_result"
    }
   ],
   "source": [
    "# dataset\n",
    "three_digits_labels = np.array(np.where(train_labels==2)).tolist() + np.array(np.where(train_labels==3)).tolist() +  np.array(np.where(train_labels==4)).tolist()\n",
    "flat = [item for sublist in three_digits_labels for item in sublist]\n",
    "idx = np.array(flat)\n",
    "data = bin_train_data[idx]\n",
    "data.shape"
   ]
  },
  {
   "cell_type": "code",
   "execution_count": 404,
   "metadata": {
    "collapsed": false
   },
   "outputs": [
    {
     "name": "stdout",
     "output_type": "stream",
     "text": [
      "(17931, 3)\n",
      "Iteration 1; Average log-likelihood: -184.5944971066356\n",
      "Iteration 2; Average log-likelihood: -184.23561164635166\n",
      "Iteration 3; Average log-likelihood: -184.1731827511606\n",
      "Iteration 4; Average log-likelihood: -184.15422411666802\n",
      "Iteration 5; Average log-likelihood: -184.14788642152993\n",
      "Iteration 6; Average log-likelihood: -184.14510727422436\n",
      "Iteration 7; Average log-likelihood: -184.14259434931571\n",
      "Iteration 8; Average log-likelihood: -184.14177241563402\n",
      "converged, as stopping criterion reached\n"
     ]
    }
   ],
   "source": [
    "mu,pi,gamma = EM(data,3, 200,True)"
   ]
  },
  {
   "cell_type": "markdown",
   "metadata": {
    "deletable": false,
    "editable": false,
    "nbgrader": {
     "checksum": "485543f4893938d2a9dc1c17d8221cbc",
     "grade": false,
     "grade_id": "cell-88c9664f995b1909",
     "locked": true,
     "schema_version": 1,
     "solution": false
    }
   },
   "source": [
    "Can you identify which element in the latent space corresponds to which digit? What are the identified mixing coefficients for digits $2$, $3$ and $4$, and how do these compare to the true ones?"
   ]
  },
  {
   "cell_type": "code",
   "execution_count": 390,
   "metadata": {
    "collapsed": false
   },
   "outputs": [
    {
     "name": "stdout",
     "output_type": "stream",
     "text": [
      "(17931, 3)\n",
      "Iteration 1; Average log-likelihood: -207.11311790290588\n",
      "Iteration 2; Average log-likelihood: -196.4057915692482\n",
      "Iteration 3; Average log-likelihood: -190.91966023304363\n",
      "Iteration 4; Average log-likelihood: -190.47809385240626\n",
      "Iteration 5; Average log-likelihood: -190.1240074594616\n",
      "Iteration 6; Average log-likelihood: -189.84201586024056\n",
      "Iteration 7; Average log-likelihood: -189.55823655605224\n",
      "Iteration 8; Average log-likelihood: -189.23932709887163\n",
      "Iteration 9; Average log-likelihood: -188.80773969371904\n",
      "Iteration 10; Average log-likelihood: -188.08646757610313\n",
      "Iteration 11; Average log-likelihood: -187.13672299603866\n",
      "Iteration 12; Average log-likelihood: -186.1854323795697\n",
      "Iteration 13; Average log-likelihood: -185.30766600721137\n",
      "Iteration 14; Average log-likelihood: -184.579742892433\n",
      "Iteration 15; Average log-likelihood: -184.26060786837726\n",
      "Iteration 16; Average log-likelihood: -184.18734922875652\n",
      "Iteration 17; Average log-likelihood: -184.1660214658846\n",
      "Iteration 18; Average log-likelihood: -184.15722490631916\n",
      "Iteration 19; Average log-likelihood: -184.15253244461115\n",
      "Iteration 20; Average log-likelihood: -184.1484588202724\n",
      "Iteration 21; Average log-likelihood: -184.14654117153873\n",
      "Iteration 22; Average log-likelihood: -184.14482323144017\n",
      "converged, as stopping criterion reached\n"
     ]
    },
    {
     "data": {
      "image/png": "[encoded data removed]",
      "text/plain": [
       "<matplotlib.figure.Figure at 0x1952ff7f60>"
      ]
     },
     "metadata": {},
     "output_type": "display_data"
    },
    {
     "name": "stdout",
     "output_type": "stream",
     "text": [
      "Mixing coefficients: [ 0.34900385  0.32929627  0.32169988]\n",
      "True Mixing coefficients: [ 0.33227372  0.34192181  0.32580447]\n"
     ]
    }
   ],
   "source": [
    "def plot_latent(mu,K):\n",
    "    fig = plt.figure()\n",
    "    for i in range(K):\n",
    "        plt.subplot(1,K,i+1)\n",
    "        plt.imshow(mu[i,:].reshape(28,28))\n",
    "    plt.show()\n",
    "    \n",
    "mu,pi,gamma = EM(data,3, 200)\n",
    "plot_latent(mu,3)\n",
    "\n",
    "print(\"Mixing coefficients:\",pi)\n",
    "\n",
    "true_pi = np.array([np.array(np.where(train_labels==2)).shape[1],np.array(np.where(train_labels==3)).shape[1],np.array(np.where(train_labels==4)).shape[1]])\n",
    "print(\"True Mixing coefficients:\",true_pi/np.sum(true_pi) )\n"
   ]
  },
  {
   "cell_type": "markdown",
   "metadata": {
    "deletable": false,
    "nbgrader": {
     "checksum": "ae7b5acea6089e2590059f90b0d0a0be",
     "grade": true,
     "grade_id": "cell-3680ae2159c48193",
     "locked": false,
     "points": 5,
     "schema_version": 1,
     "solution": true
    }
   },
   "source": [
    "$\\textbf{Answer:}$ Yes, clearly as above below the elements in the latent space encode the three digits 3,2 and 4. Also, the learned mixing coefficients are close to the true mixing coefficients."
   ]
  },
  {
   "cell_type": "markdown",
   "metadata": {
    "deletable": false,
    "editable": false,
    "nbgrader": {
     "checksum": "98e04feb59a36867367b3027df9e226d",
     "grade": false,
     "grade_id": "cell-0891dda1c3e80e9a",
     "locked": true,
     "schema_version": 1,
     "solution": false
    }
   },
   "source": [
    "### 1.4 Experiments (20 points)\n",
    "Perform the follow-up experiments listed below using your implementation of the EM algorithm. For each of these, describe/comment on the obtained results and give an explanation. You may still use your dataset with only digits 2, 3 and 4 as otherwise computations can take very long."
   ]
  },
  {
   "cell_type": "markdown",
   "metadata": {
    "deletable": false,
    "editable": false,
    "nbgrader": {
     "checksum": "439067186fa3ef1d7261a9bcf5a84ea6",
     "grade": false,
     "grade_id": "cell-06fe1b1355689928",
     "locked": true,
     "schema_version": 1,
     "solution": false
    }
   },
   "source": [
    "#### 1.4.1 Size of the latent space (5 points)\n",
    "Run EM with $K$ larger or smaller than the true number of classes. Describe your results."
   ]
  },
  {
   "cell_type": "code",
   "execution_count": 314,
   "metadata": {
    "collapsed": false,
    "deletable": false,
    "nbgrader": {
     "checksum": "791512aeadd30c4b586b966ca10e6fad",
     "grade": true,
     "grade_id": "cell-6c9057f2546b7215",
     "locked": false,
     "points": 2,
     "schema_version": 1,
     "solution": true
    }
   },
   "outputs": [
    {
     "name": "stdout",
     "output_type": "stream",
     "text": [
      "----------------------EM with K=2----------------------\n",
      "(17931, 2)\n",
      "Iteration 1; Average log-likelihood: -207.23649651434138\n",
      "Iteration 2; Average log-likelihood: -200.47833644793442\n",
      "Iteration 3; Average log-likelihood: -195.79729813541044\n",
      "Iteration 4; Average log-likelihood: -195.04388756609592\n",
      "Iteration 5; Average log-likelihood: -194.6993664402367\n",
      "Iteration 6; Average log-likelihood: -194.56311195949073\n",
      "Iteration 7; Average log-likelihood: -194.50176634298177\n",
      "Iteration 8; Average log-likelihood: -194.46521213046117\n",
      "Iteration 9; Average log-likelihood: -194.43990521801706\n",
      "Iteration 10; Average log-likelihood: -194.42380838152832\n",
      "Iteration 11; Average log-likelihood: -194.41187561018745\n",
      "Iteration 12; Average log-likelihood: -194.40026717640058\n",
      "Iteration 13; Average log-likelihood: -194.3879519929905\n",
      "Iteration 14; Average log-likelihood: -194.3741942024639\n",
      "Iteration 15; Average log-likelihood: -194.3590378933046\n",
      "Iteration 16; Average log-likelihood: -194.34852015955462\n",
      "Iteration 17; Average log-likelihood: -194.3393105327165\n",
      "Iteration 18; Average log-likelihood: -194.32932265993318\n",
      "Iteration 19; Average log-likelihood: -194.31881599519727\n",
      "Iteration 20; Average log-likelihood: -194.31013988271113\n",
      "Iteration 21; Average log-likelihood: -194.30305426404271\n",
      "Iteration 22; Average log-likelihood: -194.29693978391845\n",
      "Iteration 23; Average log-likelihood: -194.29002249993925\n",
      "Iteration 24; Average log-likelihood: -194.28233579126444\n",
      "Iteration 25; Average log-likelihood: -194.27291204859395\n",
      "Iteration 26; Average log-likelihood: -194.26300676704872\n",
      "Iteration 27; Average log-likelihood: -194.25221723990188\n",
      "Iteration 28; Average log-likelihood: -194.23984575415534\n",
      "Iteration 29; Average log-likelihood: -194.22414317694518\n",
      "Iteration 30; Average log-likelihood: -194.20463666560548\n",
      "Iteration 31; Average log-likelihood: -194.17423754432224\n",
      "Iteration 32; Average log-likelihood: -194.13276155822285\n",
      "Iteration 33; Average log-likelihood: -194.07357559743875\n",
      "Iteration 34; Average log-likelihood: -194.0042008690495\n",
      "Iteration 35; Average log-likelihood: -193.9418660717161\n",
      "Iteration 36; Average log-likelihood: -193.8915273060976\n",
      "Iteration 37; Average log-likelihood: -193.8607245094498\n",
      "Iteration 38; Average log-likelihood: -193.84585270844846\n",
      "Iteration 39; Average log-likelihood: -193.84003301031018\n",
      "Iteration 40; Average log-likelihood: -193.83801858569367\n",
      "Iteration 41; Average log-likelihood: -193.83732992458167\n",
      "converged, as stopping criterion reached\n"
     ]
    },
    {
     "data": {
      "image/png": "[encoded data removed]",
      "text/plain": [
       "<matplotlib.figure.Figure at 0x18ba4e8da0>"
      ]
     },
     "metadata": {},
     "output_type": "display_data"
    },
    {
     "name": "stdout",
     "output_type": "stream",
     "text": [
      "----------------------EM with K=5----------------------\n",
      "(17931, 5)\n",
      "Iteration 1; Average log-likelihood: -206.8529576473234\n",
      "Iteration 2; Average log-likelihood: -188.1120221039253\n",
      "Iteration 3; Average log-likelihood: -180.18311418265543\n",
      "Iteration 4; Average log-likelihood: -179.10232244860757\n",
      "Iteration 5; Average log-likelihood: -178.67043254099943\n",
      "Iteration 6; Average log-likelihood: -178.4154447910736\n",
      "Iteration 7; Average log-likelihood: -178.17447362167314\n",
      "Iteration 8; Average log-likelihood: -177.84949821686814\n",
      "Iteration 9; Average log-likelihood: -177.5091675424001\n",
      "Iteration 10; Average log-likelihood: -177.2630233683386\n",
      "Iteration 11; Average log-likelihood: -177.09268576631763\n",
      "Iteration 12; Average log-likelihood: -176.98064691327696\n",
      "Iteration 13; Average log-likelihood: -176.92041512517756\n",
      "Iteration 14; Average log-likelihood: -176.89180648850441\n",
      "Iteration 15; Average log-likelihood: -176.8747782476127\n",
      "Iteration 16; Average log-likelihood: -176.86134713513283\n",
      "Iteration 17; Average log-likelihood: -176.85480040929068\n",
      "Iteration 18; Average log-likelihood: -176.85175219877908\n",
      "Iteration 19; Average log-likelihood: -176.85009068066725\n",
      "converged, as stopping criterion reached\n"
     ]
    },
    {
     "data": {
      "image/png": "[encoded data removed]",
      "text/plain": [
       "<matplotlib.figure.Figure at 0x13c8082b0>"
      ]
     },
     "metadata": {},
     "output_type": "display_data"
    }
   ],
   "source": [
    "print(\"----------------------EM with K=2----------------------\")\n",
    "mu1,pi,gamma = EM(data,2, 200)\n",
    "plot_latent(mu1,2)\n",
    "\n",
    "print(\"----------------------EM with K=5----------------------\")\n",
    "mu2,pi,gamma = EM(data,5, 200)\n",
    "plot_latent(mu2,5)\n",
    "\n"
   ]
  },
  {
   "cell_type": "markdown",
   "metadata": {
    "deletable": false,
    "nbgrader": {
     "checksum": "e12e40c2d2165e3bb500b5504128910d",
     "grade": true,
     "grade_id": "cell-f01c37653160244b",
     "locked": false,
     "points": 3,
     "schema_version": 1,
     "solution": true
    }
   },
   "source": [
    "$\\textbf{Answer:}$ Above we are plotting the latent spaces with K=2 and K=5 respectively.\n",
    "\n",
    "-  Interestingly, a smaller latent space (K=2) produces plots of the spaces mostly looking like the numbers 3 and 4 with number 2 being absent. However, the plot of the 3 seems to look a bit like a mix of the letters 2 and 3. It is quite interesting that the number 2 got mixed up more with the latent space of the 3 which makes intuitive sense as the number look more alike.\n",
    "\n",
    "- For a larger latent space (K=5) we also observe quite interesting results. Especially, there are now two representations of the number 2 and two of the number 4. These extra representations show distinct ways of writing the numbers. For example the number 2 is shown with a \"loopy\" tail and a \"flat\" tail."
   ]
  },
  {
   "cell_type": "markdown",
   "metadata": {
    "deletable": false,
    "editable": false,
    "nbgrader": {
     "checksum": "b306681523a2e35eea310ac10bb68999",
     "grade": false,
     "grade_id": "cell-cf478d67239b7f2e",
     "locked": true,
     "schema_version": 1,
     "solution": false
    }
   },
   "source": [
    "#### 1.4.2 Identify misclassifications (10 points)\n",
    "How can you use the data labels to assign a label to each of the clusters/latent variables? Use this to identify images that are 'misclassified' and try to understand why they are. Report your findings."
   ]
  },
  {
   "cell_type": "code",
   "execution_count": 376,
   "metadata": {
    "collapsed": false,
    "deletable": false,
    "nbgrader": {
     "checksum": "000c11bd8756a4e24296c7c55d3ee17e",
     "grade": true,
     "grade_id": "cell-daa1a492fbba5c7e",
     "locked": false,
     "points": 5,
     "schema_version": 1,
     "solution": true
    }
   },
   "outputs": [
    {
     "name": "stdout",
     "output_type": "stream",
     "text": [
      "(17931, 3)\n",
      "Iteration 1; Average log-likelihood: -206.99147131089558\n",
      "Iteration 2; Average log-likelihood: -193.51693129784667\n",
      "Iteration 3; Average log-likelihood: -186.4309642252805\n",
      "Iteration 4; Average log-likelihood: -184.4713234397381\n",
      "Iteration 5; Average log-likelihood: -184.22066989631853\n",
      "Iteration 6; Average log-likelihood: -184.16535986678414\n",
      "Iteration 7; Average log-likelihood: -184.1503979075656\n",
      "Iteration 8; Average log-likelihood: -184.14630330124473\n",
      "Iteration 9; Average log-likelihood: -184.14252146260228\n",
      "Iteration 10; Average log-likelihood: -184.14200407861364\n",
      "converged, as stopping criterion reached\n"
     ]
    },
    {
     "data": {
      "image/png": "[encoded data removed]",
      "text/plain": [
       "<matplotlib.figure.Figure at 0x13b86ab38>"
      ]
     },
     "metadata": {},
     "output_type": "display_data"
    }
   ],
   "source": [
    "mu,pi,gamma = EM(data,3, 200)\n",
    "# identify which component in the latent space got assigned to which number.\n",
    "plot_latent(mu,3)\n"
   ]
  },
  {
   "cell_type": "code",
   "execution_count": 388,
   "metadata": {
    "collapsed": false
   },
   "outputs": [
    {
     "name": "stdout",
     "output_type": "stream",
     "text": [
      "Falsely classified as 3\n"
     ]
    },
    {
     "data": {
      "image/png": "[encoded data removed]",
      "text/plain": [
       "<matplotlib.figure.Figure at 0x187ca3fd68>"
      ]
     },
     "metadata": {},
     "output_type": "display_data"
    },
    {
     "name": "stdout",
     "output_type": "stream",
     "text": [
      "Falsely classified as 3\n"
     ]
    },
    {
     "data": {
      "image/png": "[encoded data removed]",
      "text/plain": [
       "<matplotlib.figure.Figure at 0x187c79acc0>"
      ]
     },
     "metadata": {},
     "output_type": "display_data"
    },
    {
     "name": "stdout",
     "output_type": "stream",
     "text": [
      "Falsely classified as 2\n"
     ]
    },
    {
     "data": {
      "image/png": "[encoded data removed]",
      "text/plain": [
       "<matplotlib.figure.Figure at 0x1952ffef98>"
      ]
     },
     "metadata": {},
     "output_type": "display_data"
    },
    {
     "name": "stdout",
     "output_type": "stream",
     "text": [
      "Falsely classified as 4\n"
     ]
    },
    {
     "data": {
      "image/png": "[encoded data removed]",
      "text/plain": [
       "<matplotlib.figure.Figure at 0x187c780f28>"
      ]
     },
     "metadata": {},
     "output_type": "display_data"
    },
    {
     "name": "stdout",
     "output_type": "stream",
     "text": [
      "Falsely classified as 2\n"
     ]
    },
    {
     "data": {
      "image/png": "[encoded data removed]",
      "text/plain": [
       "<matplotlib.figure.Figure at 0x185956a470>"
      ]
     },
     "metadata": {},
     "output_type": "display_data"
    },
    {
     "name": "stdout",
     "output_type": "stream",
     "text": [
      "Falsely classified as 2\n"
     ]
    },
    {
     "data": {
      "image/png": "[encoded data removed]",
      "text/plain": [
       "<matplotlib.figure.Figure at 0x187c7fd0b8>"
      ]
     },
     "metadata": {},
     "output_type": "display_data"
    }
   ],
   "source": [
    "plt.rcParams['figure.figsize'] = [5, 5]\n",
    "\n",
    "# datapoints 1-5958 : 2, datapoints 5959-12089 : 3, datapoints 12089-17931: 4\n",
    "correct = 0\n",
    "count2 = 0\n",
    "count3 = 0\n",
    "count4 = 0\n",
    "\n",
    "for j in range(gamma.shape[0]):\n",
    "    \n",
    "    # change these for every new model\n",
    "    if j <= 5958:\n",
    "        if np.argmax(gamma[j]) == 2:\n",
    "            correct+=1\n",
    "        elif count2 < 2:\n",
    "            count2+=1\n",
    "            if np.argmax(gamma[j]) == 0:\n",
    "                label1 = 4\n",
    "            elif np.argmax(gamma[j]) == 1:\n",
    "                label1 = 3\n",
    "            elif np.argmax(gamma[j]) == 2:\n",
    "                label1 = 2\n",
    "            print(\"Falsely classified as {}\".format(label1))\n",
    "            im2 = plt.imshow(data[j,:].reshape(28,28))\n",
    "            plt.title(\"True label: 2\")\n",
    "                  \n",
    "    elif j >= 5958 and j <= 12089:\n",
    "        if np.argmax(gamma[j]) == 1:\n",
    "            correct+=1\n",
    "        elif count3 < 2:\n",
    "            count3+=1\n",
    "            if np.argmax(gamma[j]) == 0:\n",
    "                label2 = 4\n",
    "            elif np.argmax(gamma[j]) == 1:\n",
    "                label2 = 3\n",
    "            elif np.argmax(gamma[j]) == 2:\n",
    "                label2 = 2\n",
    "                  \n",
    "            print(\"Falsely classified as {}\".format(label2))\n",
    "            im2 = plt.imshow(data[j,:].reshape(28,28))\n",
    "            plt.title(\"True label: 3\")\n",
    "                  \n",
    "    elif j >= 12089:\n",
    "        if np.argmax(gamma[j]) == 0:\n",
    "            correct+=1\n",
    "        elif count4 < 2:\n",
    "            count4+=1\n",
    "            if np.argmax(gamma[j]) == 0:\n",
    "                label3 = 4\n",
    "            elif np.argmax(gamma[j]) == 1:\n",
    "                label3 = 3\n",
    "            elif np.argmax(gamma[j]) == 2:\n",
    "                label3 = 2\n",
    "            print(\"Falsely classified as {}\".format(label3))\n",
    "            im2 = plt.imshow(data[j,:].reshape(28,28))\n",
    "            plt.title(\"True label: 4\")\n",
    "    plt.show()\n",
    "        \n",
    "            \n",
    "        \n",
    "         "
   ]
  },
  {
   "cell_type": "markdown",
   "metadata": {
    "deletable": false,
    "nbgrader": {
     "checksum": "baf43434481c13d76ad51e3ba07e2bf5",
     "grade": true,
     "grade_id": "cell-329245c02df7850d",
     "locked": false,
     "points": 5,
     "schema_version": 1,
     "solution": true
    }
   },
   "source": [
    "$\\textbf{Answer:}$ It is hard to tell why exactly specific images are missclassified. However, some of the above plotted examples are w.r.t. their label. Especially the 3s and the 4s that are plotted above show some rotation and other variations that let them be too different from the learned latent space."
   ]
  },
  {
   "cell_type": "markdown",
   "metadata": {
    "deletable": false,
    "editable": false,
    "nbgrader": {
     "checksum": "640bc57a2d08c3becf534bb5e4b35971",
     "grade": false,
     "grade_id": "cell-67ce1222e8a7837b",
     "locked": true,
     "schema_version": 1,
     "solution": false
    }
   },
   "source": [
    "#### 1.4.3 Initialize with true values (5 points)\n",
    "Initialize the three classes with the true values of the parameters and see what happens. Report your results."
   ]
  },
  {
   "cell_type": "code",
   "execution_count": 411,
   "metadata": {
    "collapsed": false,
    "deletable": false,
    "nbgrader": {
     "checksum": "a48f788e286458ef0f776865a3bcd58b",
     "grade": true,
     "grade_id": "cell-aa5d6b9f941d985d",
     "locked": false,
     "points": 2,
     "schema_version": 1,
     "solution": true
    }
   },
   "outputs": [
    {
     "name": "stdout",
     "output_type": "stream",
     "text": [
      "------------ iniatialized randomly values --------------\n",
      "Iteration 1; Average log-likelihood: -207.16502833882578\n",
      "Iteration 2; Average log-likelihood: -196.14416080899545\n",
      "Iteration 3; Average log-likelihood: -187.62162729381672\n",
      "Iteration 4; Average log-likelihood: -186.0473374913041\n",
      "Iteration 5; Average log-likelihood: -185.27490695183968\n",
      "Iteration 6; Average log-likelihood: -184.85467447938987\n",
      "Iteration 7; Average log-likelihood: -184.57033258910207\n",
      "Iteration 8; Average log-likelihood: -184.37612456341176\n",
      "Iteration 9; Average log-likelihood: -184.26170878697909\n",
      "Iteration 10; Average log-likelihood: -184.19951981769518\n",
      "Iteration 11; Average log-likelihood: -184.1694530889979\n",
      "Iteration 12; Average log-likelihood: -184.15527679188176\n",
      "Iteration 13; Average log-likelihood: -184.1491195693139\n",
      "Iteration 14; Average log-likelihood: -184.14652907444093\n",
      "Iteration 15; Average log-likelihood: -184.14535239305928\n",
      "converged, as stopping criterion reached\n",
      "------------ iniatialized with true values --------------\n",
      "(17931, 3)\n",
      "Iteration 1; Average log-likelihood: -184.5944971066356\n",
      "Iteration 2; Average log-likelihood: -184.23561164635166\n",
      "Iteration 3; Average log-likelihood: -184.1731827511606\n",
      "Iteration 4; Average log-likelihood: -184.15422411666802\n",
      "Iteration 5; Average log-likelihood: -184.14788642152993\n",
      "Iteration 6; Average log-likelihood: -184.14510727422436\n",
      "Iteration 7; Average log-likelihood: -184.14259434931571\n",
      "Iteration 8; Average log-likelihood: -184.14177241563402\n",
      "converged, as stopping criterion reached\n"
     ]
    }
   ],
   "source": [
    "print(\"------------ iniatialized randomly values --------------\")\n",
    "mu,pi,gamma = EM(data,3, 200)\n",
    "\n",
    "print(\"------------ iniatialized with true values --------------\")\n",
    "mu,pi,gamma = EM(data,3, 200, True)\n"
   ]
  },
  {
   "cell_type": "markdown",
   "metadata": {
    "deletable": false,
    "nbgrader": {
     "checksum": "1dc4adf3081f3bec93f94c3b12b87db9",
     "grade": true,
     "grade_id": "cell-981e44f35a3764b0",
     "locked": false,
     "points": 3,
     "schema_version": 1,
     "solution": true
    }
   },
   "source": [
    "$\\textbf{Answer:}$ Clearly, convergence is much faster when images are assigned their true labels. Also the average log likelihood starts off at -184.59 which is already as low as the final average log likelihood in the randomly assigned version."
   ]
  },
  {
   "cell_type": "markdown",
   "metadata": {
    "deletable": false,
    "editable": false,
    "nbgrader": {
     "checksum": "bd613f41e5d2b7d22b0d5b1e7644a48a",
     "grade": false,
     "grade_id": "cell-19bfd7cf4017ed84",
     "locked": true,
     "schema_version": 1,
     "solution": false
    }
   },
   "source": [
    "## Part 2: Variational Auto-Encoder\n",
    "\n",
    "A Variational Auto-Encoder (VAE) is a probabilistic model $p(\\bx, \\bz)$ over observed variables $\\bx$ and latent variables and/or parameters $\\bz$. Here we distinguish the decoder part, $p(\\bx | \\bz) p(\\bz)$ and an encoder part $p(\\bz | \\bx)$ that are both specified with a neural network. A lower bound on the log marginal likelihood $\\log p(\\bx)$ can be obtained by approximately inferring the latent variables z from the observed data x using an encoder distribution $q(\\bz| \\bx)$ that is also specified as a neural network. This lower bound is then optimized to fit the model to the data. \n",
    "\n",
    "The model was introduced by Diederik Kingma (during his PhD at the UVA) and Max Welling in 2013, https://arxiv.org/abs/1312.6114. \n",
    "\n",
    "Since it is such an important model there are plenty of well written tutorials that should help you with the assignment. E.g: https://jaan.io/what-is-variational-autoencoder-vae-tutorial/.\n",
    "\n",
    "In the following, we will make heavily use of the torch module, https://pytorch.org/docs/stable/index.html. Most of the time replacing `np.` with `torch.` will do the trick, e.g. `np.sum` becomes `torch.sum` and `np.log` becomes `torch.log`. In addition, we will use `torch.FloatTensor()` as an equivalent to `np.array()`. In order to train our VAE efficiently we will make use of batching. The number of data points in a batch will become the first dimension of our data tensor, e.g. A batch of 128 MNIST images has the dimensions [128, 1, 28, 28]. To check check the dimensions of a tensor you can call `.size()`."
   ]
  },
  {
   "cell_type": "markdown",
   "metadata": {
    "deletable": false,
    "editable": false,
    "nbgrader": {
     "checksum": "92bd337f41c3f94777f47376c7149ca7",
     "grade": false,
     "grade_id": "cell-bcbe35b20c1007d3",
     "locked": true,
     "schema_version": 1,
     "solution": false
    }
   },
   "source": [
    "### 2.1 Loss function\n",
    "The objective function (variational lower bound), that we will use to train the VAE, consists of two terms: a log Bernoulli loss (reconstruction loss) and a Kullback–Leibler divergence. We implement the two terms separately and combine them in the end.\n",
    "As seen in Part 1: Expectation Maximization, we can use a multivariate Bernoulli distribution to model the likelihood $p(\\bx | \\bz)$ of black and white images. Formally, the variational lower bound is maximized but in PyTorch we are always minimizing therefore we need to calculate the negative log Bernoulli loss and Kullback–Leibler divergence."
   ]
  },
  {
   "cell_type": "markdown",
   "metadata": {
    "deletable": false,
    "editable": false,
    "nbgrader": {
     "checksum": "3fb5f70b132e1233983ef89d19998374",
     "grade": false,
     "grade_id": "cell-389d81024af846e5",
     "locked": true,
     "schema_version": 1,
     "solution": false
    }
   },
   "source": [
    "### 2.1.1 Negative Log Bernoulli loss (5 points)\n",
    "The negative log Bernoulli loss is defined as,\n",
    "\n",
    "\\begin{align}\n",
    "loss = - (\\sum_i^D \\bx_i \\log \\hat{\\bx_i} + (1 − \\bx_i) \\log(1 − \\hat{\\bx_i})).\n",
    "\\end{align}\n",
    "\n",
    "Write a function `log_bernoulli_loss` that takes a D dimensional vector `x`, its reconstruction `x_hat` and returns the negative log Bernoulli loss. Make sure that your function works for batches of arbitrary size."
   ]
  },
  {
   "cell_type": "code",
   "execution_count": 9,
   "metadata": {
    "collapsed": true,
    "deletable": false,
    "nbgrader": {
     "checksum": "952435ca03f47ab67a7e88b8306fc9a0",
     "grade": false,
     "grade_id": "cell-1d504606d6f99145",
     "locked": false,
     "schema_version": 1,
     "solution": true
    }
   },
   "outputs": [],
   "source": [
    "def log_bernoulli_loss(x_hat, x):\n",
    "    neg_loss = torch.mul(x, torch.log(x_hat)) + torch.mul(1 - x, torch.log(1 - x_hat))\n",
    "    return -neg_loss.sum()"
   ]
  },
  {
   "cell_type": "code",
   "execution_count": 11,
   "metadata": {
    "collapsed": true,
    "deletable": false,
    "editable": false,
    "nbgrader": {
     "checksum": "bd2a490aa694507bd032e86d77fc0087",
     "grade": true,
     "grade_id": "cell-9666dad0b2a9f483",
     "locked": true,
     "points": 5,
     "schema_version": 1,
     "solution": false
    }
   },
   "outputs": [],
   "source": [
    "### Test test test\n",
    "x_test = torch.FloatTensor([[0.1, 0.2, 0.3, 0.4], [0.5, 0.6, 0.7, 0.8], [0.9, 0.9, 0.9, 0.9]])\n",
    "x_hat_test = torch.FloatTensor([[0.11, 0.22, 0.33, 0.44], [0.55, 0.66, 0.77, 0.88], [0.99, 0.99, 0.99, 0.99]])\n",
    "\n",
    "assert log_bernoulli_loss(x_hat_test, x_test) > 0.0\n",
    "assert log_bernoulli_loss(x_hat_test, x_test) < 10.0\n"
   ]
  },
  {
   "cell_type": "markdown",
   "metadata": {
    "deletable": false,
    "editable": false,
    "nbgrader": {
     "checksum": "6b75b7a531ecc87bce57925c4da464ee",
     "grade": false,
     "grade_id": "cell-b3a7c02dee7aa505",
     "locked": true,
     "schema_version": 1,
     "solution": false
    }
   },
   "source": [
    "### 2.1.2 Negative Kullback–Leibler divergence (10 Points)\n",
    "The variational lower bound (the objective to be maximized) contains a KL term $D_{KL}(q(\\bz)||p(\\bz))$ that can often be calculated analytically. In the VAE we assume $q = N(\\bz, \\mu, \\sigma^2I)$ and $p = N(\\bz, 0, I)$. Solve analytically!"
   ]
  },
  {
   "cell_type": "markdown",
   "metadata": {
    "deletable": false,
    "nbgrader": {
     "checksum": "d01a7e7fe2dcf5f1c5fb955b85c8a04a",
     "grade": true,
     "grade_id": "cell-4cab10fd1a636858",
     "locked": false,
     "points": 5,
     "schema_version": 1,
     "solution": true
    }
   },
   "source": [
    "YOUR ANSWER HERE"
   ]
  },
  {
   "cell_type": "markdown",
   "metadata": {
    "deletable": false,
    "editable": false,
    "nbgrader": {
     "checksum": "328115c94a66e8aba0a62896e647c3ba",
     "grade": false,
     "grade_id": "cell-c49899cbf2a49362",
     "locked": true,
     "schema_version": 1,
     "solution": false
    }
   },
   "source": [
    "Write a function `KL_loss` that takes two J dimensional vectors `mu` and `logvar` and returns the negative Kullback–Leibler divergence. Where `logvar` is $\\log(\\sigma^2)$. Make sure that your function works for batches of arbitrary size."
   ]
  },
  {
   "cell_type": "code",
   "execution_count": 12,
   "metadata": {
    "collapsed": true,
    "deletable": false,
    "nbgrader": {
     "checksum": "33b14b79372dd0235d67bb66921cd3e0",
     "grade": false,
     "grade_id": "cell-125b41878005206b",
     "locked": false,
     "schema_version": 1,
     "solution": true
    }
   },
   "outputs": [],
   "source": [
    "def KL_loss(mu, logvar):\n",
    "\n",
    "    loss = -0.5 * torch.sum(1 + logvar - torch.pow(mu, 2) - torch.exp(logvar))\n",
    "    return loss"
   ]
  },
  {
   "cell_type": "code",
   "execution_count": 13,
   "metadata": {
    "collapsed": true,
    "deletable": false,
    "editable": false,
    "nbgrader": {
     "checksum": "cf72e196d2b60827e8e940681ac50a07",
     "grade": true,
     "grade_id": "cell-ba714bbe270a3f39",
     "locked": true,
     "points": 5,
     "schema_version": 1,
     "solution": false
    }
   },
   "outputs": [],
   "source": [
    "### Test test test\n",
    "mu_test = torch.FloatTensor([[0.1, 0.2], [0.3, 0.4], [0.5, 0.6]])\n",
    "logvar_test = torch.FloatTensor([[0.01, 0.02], [0.03, 0.04], [0.05, 0.06]])\n",
    "\n",
    "assert KL_loss(mu_test, logvar_test) > 0.0\n",
    "assert KL_loss(mu_test, logvar_test) < 10.0\n"
   ]
  },
  {
   "cell_type": "markdown",
   "metadata": {
    "deletable": false,
    "editable": false,
    "nbgrader": {
     "checksum": "65335a588baac26bc48dd6c4d275fdca",
     "grade": false,
     "grade_id": "cell-18cb3f8031edec23",
     "locked": true,
     "schema_version": 1,
     "solution": false
    }
   },
   "source": [
    "### 2.1.3 Putting the losses together (5 points)\n",
    "Write a function `loss_function` that takes a D dimensional vector `x`, its reconstruction `x_hat`, two J dimensional vectors `mu` and `logvar` and returns the final loss. Make sure that your function works for batches of arbitrary size."
   ]
  },
  {
   "cell_type": "code",
   "execution_count": 14,
   "metadata": {
    "collapsed": true,
    "deletable": false,
    "nbgrader": {
     "checksum": "f6ecb5b60b2c8d7b90070ed59320ee70",
     "grade": false,
     "grade_id": "cell-d2d18781683f1302",
     "locked": false,
     "schema_version": 1,
     "solution": true
    }
   },
   "outputs": [],
   "source": [
    "def loss_function(x_hat, x, mu, logvar):\n",
    "    \n",
    "    entropy_term = log_bernoulli_loss(x_hat, x)\n",
    "    kl_term = KL_loss(mu, logvar)\n",
    "    \n",
    "    return entropy_term + kl_term\n"
   ]
  },
  {
   "cell_type": "code",
   "execution_count": 15,
   "metadata": {
    "collapsed": true,
    "deletable": false,
    "editable": false,
    "nbgrader": {
     "checksum": "816e9508408bfcb2c7332b508d505081",
     "grade": true,
     "grade_id": "cell-57747988d29bbb5d",
     "locked": true,
     "points": 5,
     "schema_version": 1,
     "solution": false
    }
   },
   "outputs": [],
   "source": [
    "x_test = torch.FloatTensor([[0.1, 0.2, 0.3], [0.4, 0.5, 0.6], [0.7, 0.8, 0.9]])\n",
    "x_hat_test = torch.FloatTensor([[0.11, 0.22, 0.33], [0.44, 0.55, 0.66], [0.77, 0.88, 0.99]])\n",
    "mu_test = torch.FloatTensor([[0.1, 0.2], [0.3, 0.4], [0.5, 0.6]])\n",
    "logvar_test = torch.FloatTensor([[0.01, 0.02], [0.03, 0.04], [0.05, 0.06]])\n",
    "\n",
    "assert loss_function(x_hat_test, x_test, mu_test, logvar_test) > 0.0\n",
    "assert loss_function(x_hat_test, x_test, mu_test, logvar_test) < 10.0\n"
   ]
  },
  {
   "cell_type": "markdown",
   "metadata": {
    "deletable": false,
    "editable": false,
    "nbgrader": {
     "checksum": "4506e06ed44a0535140582277a528ba4",
     "grade": false,
     "grade_id": "cell-9e3ba708967fe918",
     "locked": true,
     "schema_version": 1,
     "solution": false
    }
   },
   "source": [
    "### 2.2 The model\n",
    "Below you see a data structure for the VAE. The modell itself consists of two main parts the encoder (images $\\bx$ to latent variables $\\bz$) and the decoder (latent variables $\\bz$ to images $\\bx$). The encoder is using 3 fully-connected layers, whereas the decoder is using fully-connected layers. Right now the data structure is quite empty, step by step will update its functionality. For test purposes we will initialize a VAE for you. After the data structure is completed you will do the hyperparameter search.\n"
   ]
  },
  {
   "cell_type": "code",
   "execution_count": 16,
   "metadata": {
    "collapsed": true,
    "deletable": false,
    "editable": false,
    "nbgrader": {
     "checksum": "31eccf2f6600764e28eb4bc6c5634e49",
     "grade": false,
     "grade_id": "cell-e7d9dafee18f28a1",
     "locked": true,
     "schema_version": 1,
     "solution": false
    }
   },
   "outputs": [],
   "source": [
    "from torch import nn\n",
    "from torch.nn import functional as F \n",
    "\n",
    "class VAE(nn.Module):\n",
    "    def __init__(self, fc1_dims, fc21_dims, fc22_dims, fc3_dims, fc4_dims):\n",
    "        super(VAE, self).__init__()\n",
    "\n",
    "        self.fc1 = nn.Linear(*fc1_dims)\n",
    "        self.fc21 = nn.Linear(*fc21_dims)\n",
    "        self.fc22 = nn.Linear(*fc22_dims)\n",
    "        self.fc3 = nn.Linear(*fc3_dims)\n",
    "        self.fc4 = nn.Linear(*fc4_dims)\n",
    "\n",
    "    def encode(self, x):\n",
    "        # To be implemented\n",
    "        raise Exception('Method not implemented')\n",
    "\n",
    "    def reparameterize(self, mu, logvar):\n",
    "        # To be implemented\n",
    "        raise Exception('Method not implemented')\n",
    "\n",
    "    def decode(self, z):\n",
    "        # To be implemented\n",
    "        raise Exception('Method not implemented')\n",
    "\n",
    "    def forward(self, x):\n",
    "        # To be implemented\n",
    "        raise Exception('Method not implemented')\n",
    "\n",
    "VAE_test = VAE(fc1_dims=(784, 4), fc21_dims=(4, 2), fc22_dims=(4, 2), fc3_dims=(2, 4), fc4_dims=(4, 784))\n"
   ]
  },
  {
   "cell_type": "markdown",
   "metadata": {
    "deletable": false,
    "editable": false,
    "nbgrader": {
     "checksum": "1a2243397998b4f55c25dfd734f3e7e0",
     "grade": false,
     "grade_id": "cell-c4f9e841b8972a43",
     "locked": true,
     "schema_version": 1,
     "solution": false
    }
   },
   "source": [
    "### 2.3 Encoding (10 points)\n",
    "Write a function `encode` that gets a vector `x` with 784 elements (flattened MNIST image) and returns `mu` and `logvar`. Your function should use three fully-connected layers (`self.fc1()`, `self.fc21()`, `self.fc22()`). First, you should use `self.fc1()` to embed `x`. Second, you should use `self.fc21()` and `self.fc22()` on the embedding of `x` to compute `mu` and `logvar` respectively. PyTorch comes with a variety of activation functions, the most common calls are `F.relu()`, `F.sigmoid()`, `F.tanh()`. Make sure that your function works for batches of arbitrary size.  "
   ]
  },
  {
   "cell_type": "code",
   "execution_count": 25,
   "metadata": {
    "collapsed": true,
    "deletable": false,
    "nbgrader": {
     "checksum": "628bcd88c611cf01e70f77854600199b",
     "grade": false,
     "grade_id": "cell-93cb75b98ae76569",
     "locked": false,
     "schema_version": 1,
     "solution": true
    }
   },
   "outputs": [],
   "source": [
    "def encode(self, x):\n",
    "\n",
    "    # z - latent variable\n",
    "    z = F.sigmoid(self.fc1(x))\n",
    "\n",
    "    mu = self.fc21(z)\n",
    "    logvar = torch.exp(torch.mul(self.fc22(z), 0.5))\n",
    "\n",
    "    return mu, logvar\n"
   ]
  },
  {
   "cell_type": "code",
   "execution_count": 26,
   "metadata": {
    "collapsed": true,
    "deletable": false,
    "editable": false,
    "nbgrader": {
     "checksum": "370d930fa9f10f1d3a451f3805c04d88",
     "grade": true,
     "grade_id": "cell-9648960b73337a70",
     "locked": true,
     "points": 10,
     "schema_version": 1,
     "solution": false
    }
   },
   "outputs": [],
   "source": [
    "### Test, test, test\n",
    "VAE.encode = encode\n",
    "\n",
    "x_test = torch.ones((5,784))\n",
    "mu_test, logvar_test = VAE_test.encode(x_test)\n",
    "\n",
    "assert np.allclose(mu_test.size(), [5, 2])\n",
    "assert np.allclose(logvar_test.size(), [5, 2])\n"
   ]
  },
  {
   "cell_type": "markdown",
   "metadata": {
    "deletable": false,
    "editable": false,
    "nbgrader": {
     "checksum": "6f597cc2b5ef941af282d7162297f865",
     "grade": false,
     "grade_id": "cell-581b4ed1996be868",
     "locked": true,
     "schema_version": 1,
     "solution": false
    }
   },
   "source": [
    "### 2.4 Reparameterization (10 points)\n",
    "One of the major question that the VAE is answering, is 'how to take derivatives with respect to the parameters of a stochastic variable?', i.e. if we are given $\\bz$ that is drawn from a distribution $q(\\bz|\\bx)$, and we want to take derivatives. This step is necessary to be able to use gradient-based optimization algorithms like SGD.\n",
    "For some distributions, it is possible to reparameterize samples in a clever way, such that the stochasticity is independent of the parameters. We want our samples to deterministically depend on the parameters of the distribution. For example, in a normally-distributed variable with mean $\\mu$ and standard deviation $\\sigma$, we can sample from it like this:\n",
    "\n",
    "\\begin{align}\n",
    "\\bz = \\mu + \\sigma \\odot \\epsilon,\n",
    "\\end{align}\n",
    "\n",
    "where $\\odot$ is the element-wise multiplication and $\\epsilon$ is sampled from $N(0, I)$.\n",
    "\n",
    "\n",
    "Write a function `reparameterize` that takes two J dimensional vectors `mu` and `logvar`. It should return $\\bz = \\mu + \\sigma \\odot \\epsilon$.\n"
   ]
  },
  {
   "cell_type": "code",
   "execution_count": 19,
   "metadata": {
    "collapsed": true,
    "deletable": false,
    "nbgrader": {
     "checksum": "6331cb5dd23aaacbcf1a52cfecb1afaa",
     "grade": false,
     "grade_id": "cell-679aea8b2adf7ec4",
     "locked": false,
     "schema_version": 1,
     "solution": true
    }
   },
   "outputs": [],
   "source": [
    "def reparameterize(self, mu, logvar):\n",
    "\n",
    "    epsilon = Variable(logvar.data.new(logvar.size()).normal_())\n",
    "    z = mu + epsilon.mul(logvar)\n",
    "\n",
    "    return z\n"
   ]
  },
  {
   "cell_type": "code",
   "execution_count": 22,
   "metadata": {
    "collapsed": true,
    "deletable": false,
    "editable": false,
    "nbgrader": {
     "checksum": "38d4e047717ab334b262c8c177f0a420",
     "grade": true,
     "grade_id": "cell-fdd7b27a3d17f84e",
     "locked": true,
     "points": 10,
     "schema_version": 1,
     "solution": false
    }
   },
   "outputs": [],
   "source": [
    "### Test, test, test\n",
    "VAE.reparameterize = reparameterize\n",
    "VAE_test.train()\n",
    "\n",
    "mu_test = torch.FloatTensor([[0.1, 0.2], [0.3, 0.4], [0.5, 0.6]])\n",
    "logvar_test = torch.FloatTensor([[0.01, 0.02], [0.03, 0.04], [0.05, 0.06]])\n",
    "\n",
    "z_test = VAE_test.reparameterize(mu_test, logvar_test)\n",
    "\n",
    "assert np.allclose(z_test.size(), [3, 2])\n",
    "assert z_test[0][0] < 5.0\n",
    "assert z_test[0][0] > -5.0\n"
   ]
  },
  {
   "cell_type": "markdown",
   "metadata": {
    "deletable": false,
    "editable": false,
    "nbgrader": {
     "checksum": "9241ab0eaf8366c37ad57072ce66f095",
     "grade": false,
     "grade_id": "cell-0be851f9f7f0a93e",
     "locked": true,
     "schema_version": 1,
     "solution": false
    }
   },
   "source": [
    "### 2.5 Decoding (10 points)\n",
    "Write a function `decode` that gets a vector `z` with J elements and returns a vector `x_hat` with 784 elements (flattened MNIST image). Your function should use two fully-connected layers (`self.fc3()`, `self.fc4()`). PyTorch comes with a variety of activation functions, the most common calls are `F.relu()`, `F.sigmoid()`, `F.tanh()`. Make sure that your function works for batches of arbitrary size."
   ]
  },
  {
   "cell_type": "code",
   "execution_count": 23,
   "metadata": {
    "collapsed": true,
    "deletable": false,
    "nbgrader": {
     "checksum": "e8e833cfd7c54a9b67a38056d5d6cab8",
     "grade": false,
     "grade_id": "cell-bf92bb3878275a41",
     "locked": false,
     "schema_version": 1,
     "solution": true
    }
   },
   "outputs": [],
   "source": [
    "def decode(self, z):\n",
    "\n",
    "    x_hat = F.sigmoid(self.fc4(F.sigmoid(self.fc3(z))))\n",
    "\n",
    "    return x_hat"
   ]
  },
  {
   "cell_type": "code",
   "execution_count": 24,
   "metadata": {
    "collapsed": true,
    "deletable": false,
    "editable": false,
    "nbgrader": {
     "checksum": "7732293fd7d971fcf255496e8c68638d",
     "grade": true,
     "grade_id": "cell-4abb91cb9e80af5d",
     "locked": true,
     "points": 10,
     "schema_version": 1,
     "solution": false
    }
   },
   "outputs": [],
   "source": [
    "# test test test\n",
    "VAE.decode = decode\n",
    "\n",
    "z_test = torch.ones((5,2))\n",
    "x_hat_test = VAE_test.decode(z_test)\n",
    "\n",
    "assert np.allclose(x_hat_test.size(), [5, 784])\n",
    "assert (x_hat_test <= 1).all()\n",
    "assert (x_hat_test >= 0).all()\n"
   ]
  },
  {
   "cell_type": "markdown",
   "metadata": {
    "deletable": false,
    "editable": false,
    "nbgrader": {
     "checksum": "e2e113d1f45398b2a1399c336526e755",
     "grade": false,
     "grade_id": "cell-97511fbc4f5b469b",
     "locked": true,
     "schema_version": 1,
     "solution": false
    }
   },
   "source": [
    "### 2.6 Forward pass (10)\n",
    "To complete the data structure you have to define a forward pass through the VAE. A single forward pass consists of the encoding of an MNIST image $\\bx$ into latent space $\\bz$, the reparameterization of $\\bz$ and the decoding of $\\bz$ into an image $\\bx$.\n",
    "\n",
    "Write a function `forward` that gets a a vector `x` with 784 elements (flattened MNIST image) and returns a vector `x_hat` with 784 elements (flattened MNIST image), `mu` and `logvar`."
   ]
  },
  {
   "cell_type": "code",
   "execution_count": 27,
   "metadata": {
    "collapsed": true,
    "deletable": false,
    "nbgrader": {
     "checksum": "8b7433c4631dd01c07a5fe287e55ae13",
     "grade": false,
     "grade_id": "cell-26bb463b9f98ebd5",
     "locked": false,
     "schema_version": 1,
     "solution": true
    }
   },
   "outputs": [],
   "source": [
    "def forward(self, x):\n",
    "    x = x.view(-1, 784)\n",
    "    \n",
    "    mu, logvar = self.encode(x)\n",
    "    z = self.reparameterize(mu, logvar)\n",
    "    x_hat = self.decode(z)\n",
    "\n",
    "    return x_hat, mu, logvar\n"
   ]
  },
  {
   "cell_type": "code",
   "execution_count": 28,
   "metadata": {
    "collapsed": true,
    "deletable": false,
    "editable": false,
    "nbgrader": {
     "checksum": "8e7e495f40465c162512e9873c360b25",
     "grade": true,
     "grade_id": "cell-347e5fba3d02754b",
     "locked": true,
     "points": 10,
     "schema_version": 1,
     "solution": false
    }
   },
   "outputs": [],
   "source": [
    "# test test test \n",
    "VAE.forward = forward\n",
    "\n",
    "x_test = torch.ones((5,784))\n",
    "x_hat_test, mu_test, logvar_test = VAE_test.forward(x_test)\n",
    "\n",
    "assert np.allclose(x_hat_test.size(), [5, 784])\n",
    "assert np.allclose(mu_test.size(), [5, 2])\n",
    "assert np.allclose(logvar_test.size(), [5, 2])\n"
   ]
  },
  {
   "cell_type": "markdown",
   "metadata": {
    "deletable": false,
    "editable": false,
    "nbgrader": {
     "checksum": "a114a6fd781fb949b887e6a028e07946",
     "grade": false,
     "grade_id": "cell-62c89e4d3b253671",
     "locked": true,
     "schema_version": 1,
     "solution": false
    }
   },
   "source": [
    "### 2.7 Training (15)\n",
    "We will now train the VAE using an optimizer called Adam, https://arxiv.org/abs/1412.6980. The code to train a model in PyTorch is given below."
   ]
  },
  {
   "cell_type": "code",
   "execution_count": 29,
   "metadata": {
    "collapsed": true,
    "deletable": false,
    "editable": false,
    "nbgrader": {
     "checksum": "f3b6bb965fb48229c63cacda48baea65",
     "grade": false,
     "grade_id": "cell-be75f61b09f3b9b6",
     "locked": true,
     "schema_version": 1,
     "solution": false
    }
   },
   "outputs": [],
   "source": [
    "from torch.autograd import Variable\n",
    "\n",
    "def train(epoch, train_loader, model, optimizer):\n",
    "    model.train()\n",
    "    train_loss = 0\n",
    "    for batch_idx, (data, _) in enumerate(train_loader):\n",
    "        data = Variable(data)\n",
    "        optimizer.zero_grad()\n",
    "        recon_batch, mu, logvar = model(data)\n",
    "        loss = loss_function(recon_batch, data.view(-1, 784), mu, logvar)\n",
    "        loss.backward()\n",
    "        train_loss += loss.data\n",
    "        optimizer.step()\n",
    "        if batch_idx % 100 == 0:\n",
    "            print('Train Epoch: {} [{}/{} ({:.0f}%)]\\tLoss: {:.6f}'.format(\n",
    "                epoch, batch_idx * len(data), len(train_loader.dataset),\n",
    "                100. * batch_idx / len(train_loader),\n",
    "                loss.data / len(data)))\n",
    "\n",
    "    print('====> Epoch: {} Average loss: {:.4f}'.format(\n",
    "          epoch, train_loss / len(train_loader.dataset)))\n"
   ]
  },
  {
   "cell_type": "markdown",
   "metadata": {
    "deletable": false,
    "editable": false,
    "nbgrader": {
     "checksum": "48ca730dbef06a668f4dfdb24888f265",
     "grade": false,
     "grade_id": "cell-da1b063b7de850b9",
     "locked": true,
     "schema_version": 1,
     "solution": false
    }
   },
   "source": [
    "Let's train. You have to choose the hyperparameters. Make sure your loss is going down in a reasonable amount of epochs (around 10)."
   ]
  },
  {
   "cell_type": "code",
   "execution_count": 41,
   "metadata": {
    "collapsed": true,
    "deletable": false,
    "nbgrader": {
     "checksum": "846430258fb80f50b161135448726520",
     "grade": false,
     "grade_id": "cell-d4d4408d397f6967",
     "locked": false,
     "schema_version": 1,
     "solution": true
    }
   },
   "outputs": [],
   "source": [
    "# Hyperparameters\n",
    "fc1_dims = (784, 500)\n",
    "fc21_dims = (500, 25)\n",
    "fc22_dims = (500, 25)\n",
    "fc3_dims = (25, 500)\n",
    "fc4_dims = (500, 784)\n",
    "lr = 0.001\n",
    "batch_size = 100\n",
    "epochs = 10"
   ]
  },
  {
   "cell_type": "code",
   "execution_count": 42,
   "metadata": {
    "collapsed": true,
    "deletable": false,
    "editable": false,
    "nbgrader": {
     "checksum": "b93390f399b743276bc25e67493344f2",
     "grade": true,
     "grade_id": "cell-ca352d8389c1809a",
     "locked": true,
     "points": 15,
     "schema_version": 1,
     "solution": false
    }
   },
   "outputs": [],
   "source": [
    "# This cell contains a hidden test, please don't delete it, thx"
   ]
  },
  {
   "cell_type": "markdown",
   "metadata": {
    "deletable": false,
    "editable": false,
    "nbgrader": {
     "checksum": "20719070ed85964de9722acc3456a515",
     "grade": false,
     "grade_id": "cell-5c77370db7cec9f2",
     "locked": true,
     "schema_version": 1,
     "solution": false
    }
   },
   "source": [
    "Run the box below to train the model using the hyperparameters you entered above."
   ]
  },
  {
   "cell_type": "code",
   "execution_count": 43,
   "metadata": {
    "collapsed": false,
    "deletable": false,
    "editable": false,
    "nbgrader": {
     "checksum": "38306be3638e85812bd5b2a052fcc0a4",
     "grade": false,
     "grade_id": "cell-5712d42de1068398",
     "locked": true,
     "schema_version": 1,
     "solution": false
    }
   },
   "outputs": [
    {
     "name": "stdout",
     "output_type": "stream",
     "text": [
      "Train Epoch: 1 [0/60000 (0%)]\tLoss: 566.559265\n",
      "Train Epoch: 1 [10000/60000 (17%)]\tLoss: 201.187897\n",
      "Train Epoch: 1 [20000/60000 (33%)]\tLoss: 163.966721\n",
      "Train Epoch: 1 [30000/60000 (50%)]\tLoss: 138.893158\n",
      "Train Epoch: 1 [40000/60000 (67%)]\tLoss: 135.187927\n",
      "Train Epoch: 1 [50000/60000 (83%)]\tLoss: 124.440399\n",
      "====> Epoch: 1 Average loss: 157.5113\n",
      "Train Epoch: 2 [0/60000 (0%)]\tLoss: 118.657539\n",
      "Train Epoch: 2 [10000/60000 (17%)]\tLoss: 121.674553\n",
      "Train Epoch: 2 [20000/60000 (33%)]\tLoss: 113.451218\n",
      "Train Epoch: 2 [30000/60000 (50%)]\tLoss: 108.370087\n",
      "Train Epoch: 2 [40000/60000 (67%)]\tLoss: 103.274078\n",
      "Train Epoch: 2 [50000/60000 (83%)]\tLoss: 104.923927\n",
      "====> Epoch: 2 Average loss: 108.0542\n",
      "Train Epoch: 3 [0/60000 (0%)]\tLoss: 100.332771\n",
      "Train Epoch: 3 [10000/60000 (17%)]\tLoss: 97.971443\n",
      "Train Epoch: 3 [20000/60000 (33%)]\tLoss: 97.320526\n",
      "Train Epoch: 3 [30000/60000 (50%)]\tLoss: 89.732063\n",
      "Train Epoch: 3 [40000/60000 (67%)]\tLoss: 92.350105\n",
      "Train Epoch: 3 [50000/60000 (83%)]\tLoss: 87.458611\n",
      "====> Epoch: 3 Average loss: 93.2359\n",
      "Train Epoch: 4 [0/60000 (0%)]\tLoss: 90.835846\n",
      "Train Epoch: 4 [10000/60000 (17%)]\tLoss: 91.047920\n",
      "Train Epoch: 4 [20000/60000 (33%)]\tLoss: 84.938850\n",
      "Train Epoch: 4 [30000/60000 (50%)]\tLoss: 84.767899\n",
      "Train Epoch: 4 [40000/60000 (67%)]\tLoss: 81.975166\n",
      "Train Epoch: 4 [50000/60000 (83%)]\tLoss: 88.413086\n",
      "====> Epoch: 4 Average loss: 85.9112\n",
      "Train Epoch: 5 [0/60000 (0%)]\tLoss: 85.394958\n",
      "Train Epoch: 5 [10000/60000 (17%)]\tLoss: 83.093658\n",
      "Train Epoch: 5 [20000/60000 (33%)]\tLoss: 80.318924\n",
      "Train Epoch: 5 [30000/60000 (50%)]\tLoss: 79.448456\n",
      "Train Epoch: 5 [40000/60000 (67%)]\tLoss: 74.807182\n",
      "Train Epoch: 5 [50000/60000 (83%)]\tLoss: 82.310692\n",
      "====> Epoch: 5 Average loss: 80.7756\n",
      "Train Epoch: 6 [0/60000 (0%)]\tLoss: 78.200638\n",
      "Train Epoch: 6 [10000/60000 (17%)]\tLoss: 76.940216\n",
      "Train Epoch: 6 [20000/60000 (33%)]\tLoss: 80.690384\n",
      "Train Epoch: 6 [30000/60000 (50%)]\tLoss: 78.384285\n",
      "Train Epoch: 6 [40000/60000 (67%)]\tLoss: 74.626762\n",
      "Train Epoch: 6 [50000/60000 (83%)]\tLoss: 76.611900\n",
      "====> Epoch: 6 Average loss: 77.2788\n",
      "Train Epoch: 7 [0/60000 (0%)]\tLoss: 80.343750\n",
      "Train Epoch: 7 [10000/60000 (17%)]\tLoss: 74.543610\n",
      "Train Epoch: 7 [20000/60000 (33%)]\tLoss: 73.802933\n",
      "Train Epoch: 7 [30000/60000 (50%)]\tLoss: 74.590202\n",
      "Train Epoch: 7 [40000/60000 (67%)]\tLoss: 76.831985\n",
      "Train Epoch: 7 [50000/60000 (83%)]\tLoss: 76.516876\n",
      "====> Epoch: 7 Average loss: 75.1010\n",
      "Train Epoch: 8 [0/60000 (0%)]\tLoss: 74.536545\n",
      "Train Epoch: 8 [10000/60000 (17%)]\tLoss: 72.702576\n",
      "Train Epoch: 8 [20000/60000 (33%)]\tLoss: 69.553314\n",
      "Train Epoch: 8 [30000/60000 (50%)]\tLoss: 71.127487\n",
      "Train Epoch: 8 [40000/60000 (67%)]\tLoss: 74.032074\n",
      "Train Epoch: 8 [50000/60000 (83%)]\tLoss: 74.068344\n",
      "====> Epoch: 8 Average loss: 73.4647\n",
      "Train Epoch: 9 [0/60000 (0%)]\tLoss: 72.039291\n",
      "Train Epoch: 9 [10000/60000 (17%)]\tLoss: 72.945213\n",
      "Train Epoch: 9 [20000/60000 (33%)]\tLoss: 74.379303\n",
      "Train Epoch: 9 [30000/60000 (50%)]\tLoss: 69.201248\n",
      "Train Epoch: 9 [40000/60000 (67%)]\tLoss: 73.913872\n",
      "Train Epoch: 9 [50000/60000 (83%)]\tLoss: 72.914940\n",
      "====> Epoch: 9 Average loss: 72.2495\n",
      "Train Epoch: 10 [0/60000 (0%)]\tLoss: 71.002167\n",
      "Train Epoch: 10 [10000/60000 (17%)]\tLoss: 71.341866\n",
      "Train Epoch: 10 [20000/60000 (33%)]\tLoss: 73.735481\n",
      "Train Epoch: 10 [30000/60000 (50%)]\tLoss: 70.272522\n",
      "Train Epoch: 10 [40000/60000 (67%)]\tLoss: 67.246956\n",
      "Train Epoch: 10 [50000/60000 (83%)]\tLoss: 71.571960\n",
      "====> Epoch: 10 Average loss: 71.3107\n"
     ]
    }
   ],
   "source": [
    "from torchvision import datasets, transforms\n",
    "from torch import nn, optim\n",
    "\n",
    "# Load data\n",
    "train_data = datasets.MNIST('../data', train=True, download=True,\n",
    "                   transform=transforms.ToTensor())\n",
    "\n",
    "train_loader = torch.utils.data.DataLoader(train_data,\n",
    "                                           batch_size=batch_size, shuffle=True, **{})\n",
    "\n",
    "# Init model\n",
    "VAE_MNIST = VAE(fc1_dims=fc1_dims, fc21_dims=fc21_dims, fc22_dims=fc22_dims, fc3_dims=fc3_dims, fc4_dims=fc4_dims)\n",
    "\n",
    "# Init optimizer\n",
    "optimizer = optim.Adam(VAE_MNIST.parameters(), lr=lr)\n",
    "\n",
    "# Train\n",
    "for epoch in range(1, epochs + 1):\n",
    "    train(epoch, train_loader, VAE_MNIST, optimizer)\n"
   ]
  },
  {
   "cell_type": "markdown",
   "metadata": {
    "deletable": false,
    "editable": false,
    "nbgrader": {
     "checksum": "e2f8fcc9384e30cb154cf931f223898b",
     "grade": false,
     "grade_id": "cell-bd07c058c661b9c6",
     "locked": true,
     "schema_version": 1,
     "solution": false
    }
   },
   "source": [
    "Run the box below to check if the model you trained above is able to correctly reconstruct images."
   ]
  },
  {
   "cell_type": "code",
   "execution_count": 44,
   "metadata": {
    "collapsed": false,
    "deletable": false,
    "editable": false,
    "nbgrader": {
     "checksum": "80d198e03b1287741d761a12e38dcf73",
     "grade": false,
     "grade_id": "cell-df03d717307a6863",
     "locked": true,
     "schema_version": 1,
     "solution": false
    }
   },
   "outputs": [
    {
     "data": {
      "image/png": "[encoded data removed]",
      "text/plain": [
       "<Figure size 432x288 with 1 Axes>"
      ]
     },
     "metadata": {},
     "output_type": "display_data"
    },
    {
     "data": {
      "image/png": "[encoded data removed]",
      "text/plain": [
       "<Figure size 432x288 with 1 Axes>"
      ]
     },
     "metadata": {},
     "output_type": "display_data"
    },
    {
     "data": {
      "image/png": "[encoded data removed]",
      "text/plain": [
       "<Figure size 432x288 with 1 Axes>"
      ]
     },
     "metadata": {},
     "output_type": "display_data"
    },
    {
     "data": {
      "image/png": "[encoded data removed]",
      "text/plain": [
       "<Figure size 432x288 with 1 Axes>"
      ]
     },
     "metadata": {},
     "output_type": "display_data"
    }
   ],
   "source": [
    "### Let's check if the reconstructions make sense\n",
    "# Set model to test mode\n",
    "VAE_MNIST.eval()\n",
    "    \n",
    "# Reconstructed\n",
    "train_data_plot = datasets.MNIST('../data', train=True, download=True,\n",
    "                   transform=transforms.ToTensor())\n",
    "\n",
    "train_loader_plot = torch.utils.data.DataLoader(train_data_plot,\n",
    "                                           batch_size=1, shuffle=False, **{})\n",
    "\n",
    "for batch_idx, (data, _) in enumerate(train_loader_plot):\n",
    "    x_hat, mu, logvar = VAE_MNIST(data)\n",
    "    plt.imshow(x_hat.view(1,28,28).squeeze().data.numpy(), cmap='gray')\n",
    "    plt.title('%i' % train_data.train_labels[batch_idx])\n",
    "    plt.show()\n",
    "    if batch_idx == 3:\n",
    "        break\n"
   ]
  },
  {
   "cell_type": "markdown",
   "metadata": {
    "deletable": false,
    "editable": false,
    "nbgrader": {
     "checksum": "7f559122b150f5f1228d6b66b62f462c",
     "grade": false,
     "grade_id": "cell-76649d51fdf133dc",
     "locked": true,
     "schema_version": 1,
     "solution": false
    }
   },
   "source": [
    "### 2.8 Visualize latent space (20 points)\n",
    "Now, implement the auto-encoder now with a 2-dimensional latent space, and train again over the MNIST data. Make a visualization of the learned manifold by using a linearly spaced coordinate grid as input for the latent space, as seen in  https://arxiv.org/abs/1312.6114 Figure 4."
   ]
  },
  {
   "cell_type": "code",
   "execution_count": null,
   "metadata": {
    "collapsed": true,
    "deletable": false,
    "nbgrader": {
     "checksum": "c879ffdb0d355349d7144a33d16ca93a",
     "grade": true,
     "grade_id": "cell-4a0af6d08d055bee",
     "locked": false,
     "points": 20,
     "schema_version": 1,
     "solution": true
    }
   },
   "outputs": [],
   "source": [
    "# YOUR CODE HERE\n",
    "raise NotImplementedError()\n"
   ]
  },
  {
   "cell_type": "markdown",
   "metadata": {
    "deletable": false,
    "editable": false,
    "nbgrader": {
     "checksum": "b9eb1684d646eea84a25638d184bfbda",
     "grade": false,
     "grade_id": "cell-dc5e1247a1e21009",
     "locked": true,
     "schema_version": 1,
     "solution": false
    }
   },
   "source": [
    "### 2.8 Amortized inference (10 points)\n",
    "What is amortized inference? Where in the code of Part 2 is it used? What is the benefit of using it?\n"
   ]
  },
  {
   "cell_type": "markdown",
   "metadata": {
    "deletable": false,
    "nbgrader": {
     "checksum": "364ed922da59070f319d0bdfb0e41d92",
     "grade": true,
     "grade_id": "cell-6f7808a9b0098dbf",
     "locked": false,
     "points": 10,
     "schema_version": 1,
     "solution": true
    }
   },
   "source": [
    "YOUR ANSWER HERE"
   ]
  }
 ],
 "metadata": {
  "kernelspec": {
   "display_name": "Python 3",
   "language": "python",
   "name": "python3"
  },
  "language_info": {
   "codemirror_mode": {
    "name": "ipython",
    "version": 3
   },
   "file_extension": ".py",
   "mimetype": "text/x-python",
   "name": "python",
   "nbconvert_exporter": "python",
   "pygments_lexer": "ipython3",
   "version": "3.6.0"
  }
 },
 "nbformat": 4,
 "nbformat_minor": 2
}
